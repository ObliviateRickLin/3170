{
 "cells": [
  {
   "cell_type": "code",
   "execution_count": 27,
   "metadata": {},
   "outputs": [],
   "source": [
    "import pandas as pd\n",
    "import numpy as np"
   ]
  },
  {
   "cell_type": "code",
   "execution_count": 28,
   "metadata": {},
   "outputs": [],
   "source": [
    "operation_types = ['System Specification','Architectural Design','Functional Design',\n",
    "                    'Physical Design','Verification and Signoff','Fabrication','Packaging and Testing']"
   ]
  },
  {
   "cell_type": "code",
   "execution_count": 29,
   "metadata": {},
   "outputs": [],
   "source": [
    "users = pd.read_csv(r'dataset/user.csv')"
   ]
  },
  {
   "cell_type": "code",
   "execution_count": 30,
   "metadata": {},
   "outputs": [],
   "source": [
    "import string\n",
    "import random"
   ]
  },
  {
   "cell_type": "code",
   "execution_count": 31,
   "metadata": {},
   "outputs": [],
   "source": [
    "'''CREATE TABLE package\n",
    "(USER_ID   INT,\n",
    "PACKAGE_ID  INT,\n",
    "BUDGET  DEC(6,2),\n",
    "CREATE_TIME DATETIME,\n",
    "DEADLINE  DATETIME,\n",
    "PRIMARY KEY(PACKAGE_ID),\n",
    "FOREIGN KEY(USER_ID) REFERENCES user(USER_ID));'''\n",
    "\n",
    "user_id = np.random.choice([i for i in range(300)]+[i for i in range(700,850)],size=500)\n",
    "package_id = [i for i in range(500)]\n",
    "budget = np.random.normal(2000,700,size=1000)\n",
    "budget = [i for i in budget if i>200][:500]\n"
   ]
  },
  {
   "cell_type": "code",
   "execution_count": 32,
   "metadata": {},
   "outputs": [],
   "source": [
    "import datetime\n",
    "import time\n",
    " \n",
    "end_time=datetime.datetime.now()\n",
    "start_time=datetime.datetime.now() + datetime.timedelta(days=-365) # 当前时间减去3分钟\n",
    " \n",
    "a1=tuple(start_time.timetuple()[0:9])    #设置开始日期时间元组（2020-04-11 16:30:21）\n",
    "a2=tuple(end_time.timetuple()[0:9])   #设置结束日期时间元组（2020-04-11 16:33:21）\n",
    " \n",
    "start=time.mktime(a1)    #生成开始时间戳\n",
    "end=time.mktime(a2)      #生成结束时间戳\n",
    "\n",
    "create_time = []\n",
    "deadline = []\n",
    "#随机生成日期字符串\n",
    "for i in range(len(user_id)):\n",
    "    t=random.randint(start,end)    #在开始和结束时间戳中随机取出一个\n",
    "    date_touple=time.localtime(t)          #将时间戳生成时间元组\n",
    "    date=time.strftime(\"%Y-%m-%d %H:%M:%S\",date_touple)   #将时间元组转成格式化字符串（2020-04-11 16:33:21）\n",
    "    date = datetime.datetime.strptime(date,\"%Y-%m-%d %H:%M:%S\")\n",
    "    create_time.append(date)\n",
    "\n",
    "    duration = random.randint(10,20)\n",
    "    ddl = date + datetime.timedelta(days=duration)\n",
    "    # ddl = datetime.datetime.strptime(date,\"%Y-%m-%d %H:%M:%S\") + datetime.timedelta(days=duration)\n",
    "    # ddl = time.strftime(\"%Y-%m-%d %H:%M:%S\",ddl)\n",
    "    deadline.append(ddl)"
   ]
  },
  {
   "cell_type": "code",
   "execution_count": 33,
   "metadata": {},
   "outputs": [],
   "source": [
    "package = pd.DataFrame(data={'user_id':user_id,'package_id':package_id,\n",
    "            'budget':budget,'create_time':create_time,'deadline':deadline})\n",
    "package.to_csv('dataset/package.csv',index=False)"
   ]
  },
  {
   "cell_type": "code",
   "execution_count": 34,
   "metadata": {},
   "outputs": [],
   "source": [
    "'''CREATE TABLE chip_type\n",
    "(CHIP_NAME  VARCHAR(20),\n",
    "CHIP_VERSION  VARCHAR(20),\n",
    "PRIMARY KEY(CHIP_NAME,CHIP_VERSION));\n",
    "'''\n",
    "number_of_strings = 25\n",
    "length_of_string = 5\n",
    "chip_name=[]\n",
    "for x in range(number_of_strings):\n",
    "  name=''.join(random.SystemRandom().choice(string.ascii_letters + string.digits) for _ in range(length_of_string))\n",
    "  chip_name.append(name)\n",
    "chip_name += chip_name[:10]\n",
    "chip_name += chip_name[:5]\n",
    "versions = [1]*25+[2]*10+[3]*5\n",
    "chip_type = pd.DataFrame(data={'chip_name':chip_name, 'chip_version':versions})\n",
    "chip_type = chip_type.sort_values(by=['chip_name','chip_version'],ignore_index=True)\n",
    "chip_type.to_csv('dataset/chip_type.csv',index=False)"
   ]
  },
  {
   "cell_type": "code",
   "execution_count": 35,
   "metadata": {},
   "outputs": [],
   "source": [
    "'''CREATE TABLE chip\n",
    "(CHIP_NAME  VARCHAR(20),\n",
    "CHIP_VERSION  VARCHAR(20),\n",
    "PACKAGE_ID  INT,\n",
    "CHIP_ID  INT,\n",
    "FOREIGN KEY(CHIP_NAME,CHIP_VERSION) REFERENCES chip_type(CHIP_NAME,CHIP_VERSION),\n",
    "FOREIGN KEY(PACKAGE_ID) REFERENCES package(PACKAGE_ID));'''\n",
    "package_id = np.random.choice([i for i in range(150)]+[i for i in range(150,500)],\n",
    "                                size=800,p=[0.5/150]*150+[0.5/350]*350)\n",
    "chip = chip_type.sample(n=800, random_state=0,replace=True)\n",
    "chip_id = [i for i in range(800)]\n",
    "chip['package_id'],chip['chip_id']=package_id,chip_id\n",
    "chip.reset_index(inplace=True,drop=True)\n",
    "chip.to_csv('dataset/chip.csv',index=False)"
   ]
  },
  {
   "cell_type": "code",
   "execution_count": 36,
   "metadata": {},
   "outputs": [],
   "source": [
    "'''CREATE TABLE state\n",
    "(PACKAGE_ID  INT,\n",
    "START_TIME DATETIME,\n",
    "END_TIME DATETIME,\n",
    "NAME VARCHAR(20),\n",
    "FOREIGN KEY(PACKAGE_ID) REFERENCES package(PACKAGE_ID));'''\n",
    "\n",
    "start_time1, end_time1 = [], []\n",
    "for i in range(len(package)):\n",
    "    ct =  create_time[i]\n",
    "    lag = random.randint(1,8)\n",
    "    st = ct + datetime.timedelta(hours=lag)\n",
    "    start_time1.append(st)\n",
    "\n",
    "    ddl = deadline[i]\n",
    "    lag2 = random.randint(-100,0)\n",
    "    et = ddl + datetime.timedelta(hours=lag2)\n",
    "    end_time1.append(et)\n",
    "state = pd.DataFrame(data={'package_id':package['package_id'],'start_time':start_time1,'end_time':end_time1})\n",
    "state.to_csv('dataset/state.csv',index=False)"
   ]
  }
 ],
 "metadata": {
  "kernelspec": {
   "display_name": "Python 3.10.1 64-bit",
   "language": "python",
   "name": "python3"
  },
  "language_info": {
   "codemirror_mode": {
    "name": "ipython",
    "version": 3
   },
   "file_extension": ".py",
   "mimetype": "text/x-python",
   "name": "python",
   "nbconvert_exporter": "python",
   "pygments_lexer": "ipython3",
   "version": "3.10.1"
  },
  "orig_nbformat": 4,
  "vscode": {
   "interpreter": {
    "hash": "d9fa5e22713cb368e5df63a42f89a3bec2fbd31d1da5b9d6c8695787982ca0c5"
   }
  }
 },
 "nbformat": 4,
 "nbformat_minor": 2
}
