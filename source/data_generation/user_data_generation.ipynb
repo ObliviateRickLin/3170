{
 "cells": [
  {
   "cell_type": "code",
   "execution_count": 13,
   "metadata": {},
   "outputs": [],
   "source": [
    "import pandas as pd\n",
    "import numpy as np"
   ]
  },
  {
   "cell_type": "code",
   "execution_count": 14,
   "metadata": {},
   "outputs": [
    {
     "data": {
      "text/plain": [
       "array(['Zhejiang', 'Tianjin', 'Sichuan', 'Shanxi', 'Shanghai', 'Shandong',\n",
       "       'Shaanxi', 'Qinghai', 'Ningxia', 'Liaoning', 'Jilin', 'Jiangxi',\n",
       "       'Jiangsu', 'Inner', 'Hunan', 'Hubei', 'Hong Kong', 'Henan',\n",
       "       'Heilongjiang', 'Hebei', 'Guangdong', 'Gansu', 'Fujian',\n",
       "       'Chongqing', 'Beijing', 'Anhui', 'Taiwan', 'Tibet', 'Yunnan',\n",
       "       'Xinjiang', 'Hainan', 'Guizhou', 'Guangxi', 'Macau'], dtype=object)"
      ]
     },
     "execution_count": 14,
     "metadata": {},
     "output_type": "execute_result"
    }
   ],
   "source": [
    "provinces = pd.read_excel('dataset\\provinces.xlsx')['Province']\n",
    "provinces = provinces.values\n",
    "provinces"
   ]
  },
  {
   "cell_type": "code",
   "execution_count": 15,
   "metadata": {},
   "outputs": [
    {
     "data": {
      "text/html": [
       "<div>\n",
       "<style scoped>\n",
       "    .dataframe tbody tr th:only-of-type {\n",
       "        vertical-align: middle;\n",
       "    }\n",
       "\n",
       "    .dataframe tbody tr th {\n",
       "        vertical-align: top;\n",
       "    }\n",
       "\n",
       "    .dataframe thead th {\n",
       "        text-align: right;\n",
       "    }\n",
       "</style>\n",
       "<table border=\"1\" class=\"dataframe\">\n",
       "  <thead>\n",
       "    <tr style=\"text-align: right;\">\n",
       "      <th></th>\n",
       "      <th>consumer_id</th>\n",
       "      <th>first_name</th>\n",
       "      <th>last_name</th>\n",
       "      <th>gender</th>\n",
       "      <th>country</th>\n",
       "      <th>city</th>\n",
       "    </tr>\n",
       "  </thead>\n",
       "  <tbody>\n",
       "    <tr>\n",
       "      <th>0</th>\n",
       "      <td>0</td>\n",
       "      <td>Abbey</td>\n",
       "      <td>Gwen</td>\n",
       "      <td>F</td>\n",
       "      <td>Montenegro</td>\n",
       "      <td>Podgorica</td>\n",
       "    </tr>\n",
       "    <tr>\n",
       "      <th>1</th>\n",
       "      <td>1</td>\n",
       "      <td>Abbie</td>\n",
       "      <td>Ken</td>\n",
       "      <td>F</td>\n",
       "      <td>China</td>\n",
       "      <td>Gongzhuling</td>\n",
       "    </tr>\n",
       "    <tr>\n",
       "      <th>2</th>\n",
       "      <td>2</td>\n",
       "      <td>Abbott</td>\n",
       "      <td>Leslie</td>\n",
       "      <td>M</td>\n",
       "      <td>China</td>\n",
       "      <td>Renhuai</td>\n",
       "    </tr>\n",
       "    <tr>\n",
       "      <th>3</th>\n",
       "      <td>3</td>\n",
       "      <td>Abe</td>\n",
       "      <td>Jesse</td>\n",
       "      <td>M</td>\n",
       "      <td>Belize</td>\n",
       "      <td>Belmopan</td>\n",
       "    </tr>\n",
       "    <tr>\n",
       "      <th>4</th>\n",
       "      <td>4</td>\n",
       "      <td>Abigail</td>\n",
       "      <td>Jeffrey</td>\n",
       "      <td>F</td>\n",
       "      <td>China</td>\n",
       "      <td>Donggang</td>\n",
       "    </tr>\n",
       "  </tbody>\n",
       "</table>\n",
       "</div>"
      ],
      "text/plain": [
       "   consumer_id first_name last_name gender     country         city\n",
       "0            0      Abbey      Gwen      F  Montenegro    Podgorica\n",
       "1            1      Abbie       Ken      F       China  Gongzhuling\n",
       "2            2     Abbott    Leslie      M       China      Renhuai\n",
       "3            3        Abe     Jesse      M      Belize     Belmopan\n",
       "4            4    Abigail   Jeffrey      F       China     Donggang"
      ]
     },
     "execution_count": 15,
     "metadata": {},
     "output_type": "execute_result"
    }
   ],
   "source": [
    "consumer = pd.read_excel('secondary\\consumer.xlsx')\n",
    "consumer.head()"
   ]
  },
  {
   "cell_type": "code",
   "execution_count": 16,
   "metadata": {},
   "outputs": [],
   "source": [
    "ch_consumer=consumer[consumer['country']=='China']\n",
    "foreign_consumer = consumer[consumer['country']!='China']"
   ]
  },
  {
   "cell_type": "code",
   "execution_count": 17,
   "metadata": {},
   "outputs": [
    {
     "name": "stderr",
     "output_type": "stream",
     "text": [
      "C:\\Users\\Maggie\\AppData\\Local\\Temp\\ipykernel_2796\\3883888856.py:2: SettingWithCopyWarning: \n",
      "A value is trying to be set on a copy of a slice from a DataFrame.\n",
      "Try using .loc[row_indexer,col_indexer] = value instead\n",
      "\n",
      "See the caveats in the documentation: https://pandas.pydata.org/pandas-docs/stable/user_guide/indexing.html#returning-a-view-versus-a-copy\n",
      "  ch_consumer['province']=province_sample\n"
     ]
    }
   ],
   "source": [
    "province_sample = np.random.choice(provinces,size=len(ch_consumer),p=[0.05]*10+[0.5/(len(provinces)-10)]*(len(provinces)-10))\n",
    "ch_consumer['province']=province_sample"
   ]
  },
  {
   "cell_type": "code",
   "execution_count": 18,
   "metadata": {},
   "outputs": [
    {
     "name": "stderr",
     "output_type": "stream",
     "text": [
      "C:\\Users\\Maggie\\AppData\\Local\\Temp\\ipykernel_2796\\1140735490.py:1: SettingWithCopyWarning: \n",
      "A value is trying to be set on a copy of a slice from a DataFrame.\n",
      "Try using .loc[row_indexer,col_indexer] = value instead\n",
      "\n",
      "See the caveats in the documentation: https://pandas.pydata.org/pandas-docs/stable/user_guide/indexing.html#returning-a-view-versus-a-copy\n",
      "  foreign_consumer['province']=['International']*len(foreign_consumer)\n"
     ]
    }
   ],
   "source": [
    "foreign_consumer['province']=['International']*len(foreign_consumer)"
   ]
  },
  {
   "cell_type": "code",
   "execution_count": 19,
   "metadata": {},
   "outputs": [],
   "source": [
    "consumers = pd.concat([ch_consumer,foreign_consumer])\n",
    "consumers = consumers.sort_values(by='consumer_id').reset_index(drop=True)\n",
    "# consumers"
   ]
  },
  {
   "cell_type": "markdown",
   "metadata": {},
   "source": [
    "Generate phone number"
   ]
  },
  {
   "cell_type": "code",
   "execution_count": 20,
   "metadata": {},
   "outputs": [],
   "source": [
    "with open('secondary\\phones.txt', 'r+', encoding='utf-8') as f:\n",
    "    s = [i[:-1].split(', ') for i in f.readlines()]\n",
    "consumers['phone_number']=s[0]"
   ]
  },
  {
   "cell_type": "markdown",
   "metadata": {},
   "source": [
    "Generate roles"
   ]
  },
  {
   "cell_type": "code",
   "execution_count": 21,
   "metadata": {},
   "outputs": [],
   "source": [
    "roles = np.random.choice(['consumer','staff'],size=len(consumers),p=[0.92,0.08])\n",
    "consumers['role']=roles"
   ]
  },
  {
   "cell_type": "code",
   "execution_count": 22,
   "metadata": {},
   "outputs": [],
   "source": [
    "consumers['street_address']=consumers['province'].map(str)+' '+consumers['city']"
   ]
  },
  {
   "cell_type": "code",
   "execution_count": 23,
   "metadata": {},
   "outputs": [
    {
     "data": {
      "text/html": [
       "<div>\n",
       "<style scoped>\n",
       "    .dataframe tbody tr th:only-of-type {\n",
       "        vertical-align: middle;\n",
       "    }\n",
       "\n",
       "    .dataframe tbody tr th {\n",
       "        vertical-align: top;\n",
       "    }\n",
       "\n",
       "    .dataframe thead th {\n",
       "        text-align: right;\n",
       "    }\n",
       "</style>\n",
       "<table border=\"1\" class=\"dataframe\">\n",
       "  <thead>\n",
       "    <tr style=\"text-align: right;\">\n",
       "      <th></th>\n",
       "      <th>user_id</th>\n",
       "      <th>first_name</th>\n",
       "      <th>last_name</th>\n",
       "      <th>phone_number</th>\n",
       "      <th>country_name</th>\n",
       "      <th>province</th>\n",
       "      <th>role</th>\n",
       "      <th>street_address</th>\n",
       "    </tr>\n",
       "  </thead>\n",
       "  <tbody>\n",
       "    <tr>\n",
       "      <th>0</th>\n",
       "      <td>0</td>\n",
       "      <td>Abbey</td>\n",
       "      <td>Gwen</td>\n",
       "      <td>814 998-6229</td>\n",
       "      <td>Montenegro</td>\n",
       "      <td>International</td>\n",
       "      <td>consumer</td>\n",
       "      <td>International Podgorica</td>\n",
       "    </tr>\n",
       "    <tr>\n",
       "      <th>1</th>\n",
       "      <td>1</td>\n",
       "      <td>Abbie</td>\n",
       "      <td>Ken</td>\n",
       "      <td>508 420-3608</td>\n",
       "      <td>China</td>\n",
       "      <td>Guangdong</td>\n",
       "      <td>consumer</td>\n",
       "      <td>Guangdong Gongzhuling</td>\n",
       "    </tr>\n",
       "    <tr>\n",
       "      <th>2</th>\n",
       "      <td>2</td>\n",
       "      <td>Abbott</td>\n",
       "      <td>Leslie</td>\n",
       "      <td>769 044-5994</td>\n",
       "      <td>China</td>\n",
       "      <td>Guangxi</td>\n",
       "      <td>staff</td>\n",
       "      <td>Guangxi Renhuai</td>\n",
       "    </tr>\n",
       "    <tr>\n",
       "      <th>3</th>\n",
       "      <td>3</td>\n",
       "      <td>Abe</td>\n",
       "      <td>Jesse</td>\n",
       "      <td>701 801-2284</td>\n",
       "      <td>Belize</td>\n",
       "      <td>International</td>\n",
       "      <td>consumer</td>\n",
       "      <td>International Belmopan</td>\n",
       "    </tr>\n",
       "    <tr>\n",
       "      <th>4</th>\n",
       "      <td>4</td>\n",
       "      <td>Abigail</td>\n",
       "      <td>Jeffrey</td>\n",
       "      <td>305 985-4508</td>\n",
       "      <td>China</td>\n",
       "      <td>Shanghai</td>\n",
       "      <td>consumer</td>\n",
       "      <td>Shanghai Donggang</td>\n",
       "    </tr>\n",
       "    <tr>\n",
       "      <th>...</th>\n",
       "      <td>...</td>\n",
       "      <td>...</td>\n",
       "      <td>...</td>\n",
       "      <td>...</td>\n",
       "      <td>...</td>\n",
       "      <td>...</td>\n",
       "      <td>...</td>\n",
       "      <td>...</td>\n",
       "    </tr>\n",
       "    <tr>\n",
       "      <th>1058</th>\n",
       "      <td>1058</td>\n",
       "      <td>Zelda</td>\n",
       "      <td>Alda</td>\n",
       "      <td>947 405-5498</td>\n",
       "      <td>China</td>\n",
       "      <td>Shanxi</td>\n",
       "      <td>consumer</td>\n",
       "      <td>Shanxi Ningde</td>\n",
       "    </tr>\n",
       "    <tr>\n",
       "      <th>1059</th>\n",
       "      <td>1059</td>\n",
       "      <td>Zelene</td>\n",
       "      <td>Olivy</td>\n",
       "      <td>361 534-7809</td>\n",
       "      <td>China</td>\n",
       "      <td>Tianjin</td>\n",
       "      <td>consumer</td>\n",
       "      <td>Tianjin Chibi</td>\n",
       "    </tr>\n",
       "    <tr>\n",
       "      <th>1060</th>\n",
       "      <td>1060</td>\n",
       "      <td>Zeph</td>\n",
       "      <td>Happy</td>\n",
       "      <td>865 412-0872</td>\n",
       "      <td>China</td>\n",
       "      <td>Shandong</td>\n",
       "      <td>staff</td>\n",
       "      <td>Shandong Qitaihe</td>\n",
       "    </tr>\n",
       "    <tr>\n",
       "      <th>1061</th>\n",
       "      <td>1061</td>\n",
       "      <td>Zera</td>\n",
       "      <td>Victors</td>\n",
       "      <td>321 423-7981</td>\n",
       "      <td>China</td>\n",
       "      <td>Tianjin</td>\n",
       "      <td>consumer</td>\n",
       "      <td>Tianjin Xinxiang</td>\n",
       "    </tr>\n",
       "    <tr>\n",
       "      <th>1062</th>\n",
       "      <td>1062</td>\n",
       "      <td>Zoe</td>\n",
       "      <td>Prudence</td>\n",
       "      <td>308 117-047</td>\n",
       "      <td>China</td>\n",
       "      <td>Sichuan</td>\n",
       "      <td>consumer</td>\n",
       "      <td>Sichuan Huizhou</td>\n",
       "    </tr>\n",
       "  </tbody>\n",
       "</table>\n",
       "<p>1063 rows × 8 columns</p>\n",
       "</div>"
      ],
      "text/plain": [
       "      user_id first_name last_name  phone_number country_name       province  \\\n",
       "0           0      Abbey      Gwen  814 998-6229   Montenegro  International   \n",
       "1           1      Abbie       Ken  508 420-3608        China      Guangdong   \n",
       "2           2     Abbott    Leslie  769 044-5994        China        Guangxi   \n",
       "3           3        Abe     Jesse  701 801-2284       Belize  International   \n",
       "4           4    Abigail   Jeffrey  305 985-4508        China       Shanghai   \n",
       "...       ...        ...       ...           ...          ...            ...   \n",
       "1058     1058      Zelda      Alda  947 405-5498        China         Shanxi   \n",
       "1059     1059     Zelene     Olivy  361 534-7809        China        Tianjin   \n",
       "1060     1060       Zeph     Happy  865 412-0872        China       Shandong   \n",
       "1061     1061       Zera   Victors  321 423-7981        China        Tianjin   \n",
       "1062     1062        Zoe  Prudence   308 117-047        China        Sichuan   \n",
       "\n",
       "          role           street_address  \n",
       "0     consumer  International Podgorica  \n",
       "1     consumer    Guangdong Gongzhuling  \n",
       "2        staff          Guangxi Renhuai  \n",
       "3     consumer   International Belmopan  \n",
       "4     consumer        Shanghai Donggang  \n",
       "...        ...                      ...  \n",
       "1058  consumer            Shanxi Ningde  \n",
       "1059  consumer            Tianjin Chibi  \n",
       "1060     staff         Shandong Qitaihe  \n",
       "1061  consumer         Tianjin Xinxiang  \n",
       "1062  consumer          Sichuan Huizhou  \n",
       "\n",
       "[1063 rows x 8 columns]"
      ]
     },
     "execution_count": 23,
     "metadata": {},
     "output_type": "execute_result"
    }
   ],
   "source": [
    "'''CREATE TABLE user\n",
    "(USER_ID   INT,\n",
    "FIRST_NAME  VARCHAR(20),\n",
    "LAST_NAME   VARCHAR(20),\n",
    "PHONE_NUMBER VARCHAR(20),\n",
    "REGION     VARCHAR(20),\n",
    "COUNTRY_NAME VARCHAR(10),\n",
    "PROVINCE   VARCHAR(25),\n",
    "ROLE  VARCHAR(10),\n",
    "STREET_ADDRESS VARCHAR(40),\n",
    "PRIMARY KEY(USER_ID));\n",
    "'''\n",
    "order = ['consumer_id','first_name','last_name','phone_number','country','province','role','street_address']\n",
    "consumers = consumers[order]\n",
    "consumers=consumers.rename(columns={'consumer_id':'user_id','country':'country_name'})\n",
    "consumers"
   ]
  },
  {
   "cell_type": "code",
   "execution_count": 24,
   "metadata": {},
   "outputs": [],
   "source": [
    "# # consumers = ch_consumer+foreign_consumer\n",
    "consumers.to_excel('dataset/user.xlsx',index=False)"
   ]
  }
 ],
 "metadata": {
  "kernelspec": {
   "display_name": "Python 3.10.1 64-bit",
   "language": "python",
   "name": "python3"
  },
  "language_info": {
   "codemirror_mode": {
    "name": "ipython",
    "version": 3
   },
   "file_extension": ".py",
   "mimetype": "text/x-python",
   "name": "python",
   "nbconvert_exporter": "python",
   "pygments_lexer": "ipython3",
   "version": "3.10.1"
  },
  "orig_nbformat": 4,
  "vscode": {
   "interpreter": {
    "hash": "1b4a3c146b2344438802af67d1e89b8ea4f4dbd8f085c3b33922d9563e53e23d"
   }
  }
 },
 "nbformat": 4,
 "nbformat_minor": 2
}
