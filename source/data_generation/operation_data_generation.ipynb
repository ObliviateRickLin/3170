{
 "cells": [
  {
   "cell_type": "markdown",
   "metadata": {},
   "source": [
    "### Objectives\n",
    "This code file aims to generate ``Operation`` and ``Operation_type_with_chip_type``."
   ]
  },
  {
   "cell_type": "code",
   "execution_count": 75,
   "metadata": {},
   "outputs": [],
   "source": [
    "import pandas as pd\n",
    "import numpy as np\n",
    "import random\n",
    "import datetime"
   ]
  },
  {
   "cell_type": "markdown",
   "metadata": {},
   "source": [
    "### Attributes of ``Operation``\n",
    "Foreign key: ``operation_name``\n",
    "\n",
    "Primary key: ``id``\n",
    "\n",
    "Attributes: ``start_time``, ``end_time``"
   ]
  },
  {
   "attachments": {},
   "cell_type": "markdown",
   "metadata": {},
   "source": [
    "### Attributes of ``Chip_type_with_operation_type`` (The relation between Operation_type and Chip_type)\n",
    "Foreign key & Primary key: ``operation_name``, ``chip_name``, ``chip_version``\n",
    "Attributes: ``order``"
   ]
  },
  {
   "attachments": {},
   "cell_type": "markdown",
   "metadata": {},
   "source": [
    "### Generate ``Chip_type_with_operation_type``\n",
    "1. Find all chip types and operation types;\n",
    "\n",
    "2. For each chip type, randomly select several operation types to perfrom with specific orders."
   ]
  },
  {
   "cell_type": "code",
   "execution_count": 76,
   "metadata": {},
   "outputs": [],
   "source": [
    "operation_type = pd.read_csv(\"dataset/operation_type.csv\")\n",
    "all_names = list(operation_type[\"operation_name\"])\n",
    "\n",
    "chip_type = pd.read_csv(\"dataset/chip_type.csv\")\n",
    "\n",
    "operation_name = []\n",
    "chip_name = []\n",
    "chip_version = []\n",
    "order = []\n",
    "\n",
    "for idx, row in chip_type.iterrows():\n",
    "    num_of_operations = random.randint(2, 10)\n",
    "    selected_names = np.random.choice(all_names, num_of_operations, replace=False)\n",
    "    for i in range(num_of_operations):\n",
    "        order.append(i)\n",
    "        chip_name.append(row[\"chip_name\"])\n",
    "        chip_version.append(row[\"chip_version\"])\n",
    "        operation_name.append(selected_names[i])\n",
    "    \n",
    "chip_type_with_operation_type = pd.DataFrame(data={\"operation_name\":operation_name, \"chip_name\":chip_name, \"chip_version\":chip_version, \"order\":order})\n",
    "chip_type_with_operation_type.to_csv(\"dataset/chip_type_with_operation_type.csv\", index=False)"
   ]
  },
  {
   "cell_type": "markdown",
   "metadata": {},
   "source": [
    "### Generate ``Operation``\n",
    "1. Find all packages;\n",
    "\n",
    "2. For each package, find its start time and end time by retrieving from state;\n",
    "\n",
    "3. For each package, find all chips included in the package;\n",
    "\n",
    "3. For each chip, find its chip type;\n",
    "\n",
    "4. For each chip type, find all operation types it needs;\n",
    "\n",
    "5. Generate random operations."
   ]
  },
  {
   "cell_type": "code",
   "execution_count": 77,
   "metadata": {},
   "outputs": [],
   "source": [
    "chip_type_operation_type_map = dict()\n",
    "for i in range(len(chip_name)):\n",
    "    key = chip_name[i] + str(chip_version[i])\n",
    "    if key not in chip_type_operation_type_map:\n",
    "        chip_type_operation_type_map[key] = list()\n",
    "    chip_type_operation_type_map[key].append(operation_name[i])\n",
    "\n",
    "package = pd.read_csv(\"dataset/state.csv\")\n",
    "period_map = dict()\n",
    "for idx, row in package.iterrows():\n",
    "    period_map[row[\"package_id\"]] = dict()\n",
    "    period_map[row[\"package_id\"]][\"start_time\"] = datetime.datetime.strptime(row[\"start_time\"], \"%Y-%m-%d %H:%M:%S\")\n",
    "    period_map[row[\"package_id\"]][\"end_time\"] = datetime.datetime.strptime(row[\"end_time\"], \"%Y-%m-%d %H:%M:%S\")\n",
    "\n",
    "id = []\n",
    "operation_name2 = []\n",
    "start_time = []\n",
    "end_time = []\n",
    "count = 0\n",
    "\n",
    "chip = pd.read_csv(\"dataset/chip.csv\")\n",
    "for idx, row in chip.iterrows():\n",
    "    package_start_time = period_map[row[\"package_id\"]][\"start_time\"]\n",
    "    package_end_time = period_map[row[\"package_id\"]][\"end_time\"]\n",
    "    current_time = package_start_time\n",
    "    key = row[\"chip_name\"] + str(row[\"chip_version\"])\n",
    "    for op_name in chip_type_operation_type_map[key]:\n",
    "        lag = 2 * ((package_end_time - package_start_time).days * 86400 + (package_end_time - package_start_time).seconds) // (len(chip_type_operation_type_map[key]) - 1)\n",
    "        lag = random.randint(1, lag)\n",
    "        id.append(count)\n",
    "        operation_name2.append(op_name)\n",
    "        start_time.append(current_time)\n",
    "        end_time.append(current_time + datetime.timedelta(seconds=lag))\n",
    "        current_time += datetime.timedelta(seconds=lag)\n",
    "        count += 1\n",
    "    end_time[len(end_time)-1] = package_end_time\n",
    "\n",
    "operation = pd.DataFrame(data={\"operation_name\":operation_name2, \"id\":id, \"start_time\":start_time, \"end_time\":end_time})\n",
    "operation.to_csv(\"dataset/operation.csv\", index=False)"
   ]
  }
 ],
 "metadata": {
  "kernelspec": {
   "display_name": "Python 3.10.1 64-bit",
   "language": "python",
   "name": "python3"
  },
  "language_info": {
   "codemirror_mode": {
    "name": "ipython",
    "version": 3
   },
   "file_extension": ".py",
   "mimetype": "text/x-python",
   "name": "python",
   "nbconvert_exporter": "python",
   "pygments_lexer": "ipython3",
   "version": "3.10.1"
  },
  "orig_nbformat": 4,
  "vscode": {
   "interpreter": {
    "hash": "d9fa5e22713cb368e5df63a42f89a3bec2fbd31d1da5b9d6c8695787982ca0c5"
   }
  }
 },
 "nbformat": 4,
 "nbformat_minor": 2
}
