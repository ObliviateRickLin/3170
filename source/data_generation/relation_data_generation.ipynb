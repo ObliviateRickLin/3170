{
 "cells": [
  {
   "attachments": {},
   "cell_type": "markdown",
   "metadata": {},
   "source": [
    "### Objectives\n",
    "This code file aims to generate many-to-many relations:\n",
    "- Plant_with_package (many-to-many)\n",
    "- ~~Plant_with_machine_type (many-to-many)~~\n",
    "- Machine_type_with_operation_type (many-to-many)\n",
    "- Chip_type_with_operation_type (This is generated in file ``operation_data_generation.ipynb``)\n",
    "- Operation_with_machine (many-to-many)"
   ]
  },
  {
   "cell_type": "code",
   "execution_count": 3,
   "metadata": {},
   "outputs": [],
   "source": [
    "import pandas as pd\n",
    "import numpy as np\n",
    "import random"
   ]
  },
  {
   "attachments": {},
   "cell_type": "markdown",
   "metadata": {},
   "source": [
    "### Attributes of ``Plant_with_package``\n",
    "Foreign key & Primary key: ``package_id``, ``plant_id``"
   ]
  },
  {
   "cell_type": "code",
   "execution_count": 4,
   "metadata": {},
   "outputs": [],
   "source": [
    "package = pd.read_csv(\"dataset/package.csv\")\n",
    "all_pk_ids = list(package[\"package_id\"])\n",
    "\n",
    "plant = pd.read_csv(\"dataset/plant.csv\")\n",
    "all_plant_ids = list(plant[\"plant_id\"])\n",
    "\n",
    "package_id = []\n",
    "plant_id = []\n",
    "for pk_id in all_pk_ids:\n",
    "    num_plants = random.randint(1, 5)\n",
    "    selected_plant_ids = np.random.choice(all_plant_ids, num_plants, replace=False)\n",
    "    for pl_id in selected_plant_ids:\n",
    "        package_id.append(pk_id)\n",
    "        plant_id.append(pl_id)\n",
    "        \n",
    "plant_with_package = pd.DataFrame(data={\"package_id\": package_id, \"plant_id\": plant_id})\n",
    "plant_with_package.to_csv(\"dataset/plant_with_package.csv\", index=False)"
   ]
  },
  {
   "attachments": {},
   "cell_type": "markdown",
   "metadata": {},
   "source": [
    "### ~~Attributes of ``Plant_with_machine_type``~~\n",
    "~~Foreign key & Primary key: ``plant_id``, ``machine_name``, ``machine_version``~~"
   ]
  },
  {
   "cell_type": "code",
   "execution_count": 5,
   "metadata": {},
   "outputs": [],
   "source": [
    "machine_type = pd.read_csv(\"dataset/machine_type.csv\")\n",
    "all_names = machine_type[\"machine_name\"]\n",
    "all_versions = machine_type[\"machine_version\"]\n",
    "all_ids = [i for i in range(len(all_names))]\n",
    "\n",
    "# plant_id = []\n",
    "# machine_name = []\n",
    "# machine_version = []\n",
    "# for pl_id in all_plant_ids:\n",
    "#     num_machine_types = random.randint(1, 5)\n",
    "#     selected_machine_id = np.random.choice(all_ids, num_machine_types, replace=False)\n",
    "#     for id in selected_machine_id:\n",
    "#         plant_id.append(pl_id)\n",
    "#         machine_name.append(all_names[id])\n",
    "#         machine_version.append(all_versions[id])\n",
    "        \n",
    "# plant_with_machine_type = pd.DataFrame(data={\"plant_id\": plant_id, \"machine_name\": machine_name, \"machine_version\": machine_version})\n",
    "# plant_with_machine_type.to_csv(\"dataset/plant_with_machine_type.csv\", index=False)"
   ]
  },
  {
   "attachments": {},
   "cell_type": "markdown",
   "metadata": {},
   "source": [
    "### Attributes of ``Machine_type_with_operation_type``\n",
    "Primary key & Foreign key: ``operation_name``, ``machine_name``, ``machine_version``\n",
    "\n",
    "Attributes: ``expense``, ``duration``"
   ]
  },
  {
   "cell_type": "code",
   "execution_count": 6,
   "metadata": {},
   "outputs": [],
   "source": [
    "operation_type = pd.read_csv(\"dataset/operation_type.csv\")\n",
    "all_operation_names = operation_type[\"operation_name\"]\n",
    "\n",
    "operation_name = []\n",
    "machine_name = []\n",
    "machine_version = []\n",
    "for id in all_ids:\n",
    "    num_operation_types = random.randint(1, 5)\n",
    "    selected_operation_names = np.random.choice(all_operation_names, num_operation_types, replace=False)\n",
    "    for op_name in selected_operation_names:\n",
    "        operation_name.append(op_name)\n",
    "        machine_name.append(all_names[id])\n",
    "        machine_version.append(all_versions[id])\n",
    "    \n",
    "machine_type_with_operation_type = pd.DataFrame(data={\"operation_name\": operation_name, \"machine_name\": machine_name, \"machine_version\": machine_version})\n",
    "machine_type_with_operation_type.to_csv(\"dataset/machine_type_with_operation_type.csv\", index=False)"
   ]
  },
  {
   "attachments": {},
   "cell_type": "markdown",
   "metadata": {},
   "source": [
    "### Attributes of ``operation_with_machine``\n",
    "Primary key & Foreign key: ``operation_id``, ``machine_id``\n",
    "\n",
    "Attributes: ``start_time``, ``end_time``"
   ]
  },
  {
   "cell_type": "code",
   "execution_count": 7,
   "metadata": {},
   "outputs": [],
   "source": [
    "operation = pd.read_csv(\"dataset/operation.csv\")\n",
    "\n",
    "machine = pd.read_csv(\"dataset/machine.csv\")\n",
    "all_machine_ids = machine[\"machine_id\"]\n",
    "\n",
    "operation_id = []\n",
    "machine_id = []\n",
    "start_time = []\n",
    "end_time = []"
   ]
  }
 ],
 "metadata": {
  "kernelspec": {
   "display_name": "Python 3.10.1 64-bit",
   "language": "python",
   "name": "python3"
  },
  "language_info": {
   "codemirror_mode": {
    "name": "ipython",
    "version": 3
   },
   "file_extension": ".py",
   "mimetype": "text/x-python",
   "name": "python",
   "nbconvert_exporter": "python",
   "pygments_lexer": "ipython3",
   "version": "3.10.1"
  },
  "orig_nbformat": 4,
  "vscode": {
   "interpreter": {
    "hash": "d9fa5e22713cb368e5df63a42f89a3bec2fbd31d1da5b9d6c8695787982ca0c5"
   }
  }
 },
 "nbformat": 4,
 "nbformat_minor": 2
}
